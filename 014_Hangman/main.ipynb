{
 "cells": [
  {
   "cell_type": "code",
   "execution_count": 18,
   "metadata": {},
   "outputs": [
    {
     "name": "stdout",
     "output_type": "stream",
     "text": [
      "\n",
      " _    _\n",
      "| |  | |\n",
      "| |__| |   __ __   _  ____    ____    ____  __     __ __   _  ____  \n",
      "|  __  |  /  `  | | |/ _  \\  /  _  \\ `   _\\/  \\   /  `  | | |/ _  \\ \n",
      "| |  | | |  (|  | |  /   \\ | | (_| | | | | | | | |  (|  | |  /   \\ |\n",
      "|_|  |_|  \\___,_| |_|    |_| \\___  | |_| |_| |_|  \\___,_| |_|    |_| \n",
      "                               __/ |\n",
      "                              |____/  \n",
      "\n"
     ]
    }
   ],
   "source": []
  },
  {
   "cell_type": "code",
   "execution_count": 1,
   "metadata": {},
   "outputs": [],
   "source": [
    "def hangman():\n",
    "        # Prequistes of Hangman game.\n",
    "    states=[\"\"\"\n",
    "     +---+\n",
    "     |   |\n",
    "     0   |\n",
    "         |\n",
    "         |\n",
    "         |\n",
    "    ======\n",
    "     \"\"\",\"\"\"\n",
    "     +---+\n",
    "     |   |\n",
    "     0   |\n",
    "    /    |\n",
    "         |\n",
    "         |\n",
    "    ======\n",
    "    \"\"\",\"\"\"\n",
    "     +---+\n",
    "     |   |\n",
    "     0   |\n",
    "    /|   |\n",
    "         |\n",
    "         |\n",
    "    ======\n",
    "    \"\"\",\"\"\"\n",
    "     +---+\n",
    "     |   |\n",
    "     0   |\n",
    "    /|\\  |\n",
    "         |\n",
    "         |\n",
    "    ======\n",
    "    \"\"\",\"\"\"\n",
    "     +---+\n",
    "     |   |\n",
    "     0   |\n",
    "    /|\\  |\n",
    "    /    |\n",
    "         |\n",
    "    ======\n",
    "    \"\"\",\"\"\"\n",
    "     +---+\n",
    "     |   |\n",
    "     0   |\n",
    "    /|\\  |\n",
    "    / \\  |\n",
    "         |\n",
    "    ======\n",
    "    \"\"\"]\n",
    "    words=[\n",
    "    \"consequence\",\n",
    "    \"development\",\n",
    "    \"way\",\n",
    "    \"opinion\",\n",
    "    \"winner\",\n",
    "    \"tennis\",\n",
    "    \"scene\",\n",
    "    \"power\",\n",
    "    \"database\",\"potato\"\n",
    "    \"sympathy\",\n",
    "    \"hotel\",\n",
    "    \"variety\"\n",
    "    \"combination\",\n",
    "    \"menu\",\n",
    "    \"location\",\n",
    "    \"wedding\",\n",
    "    \"memory\",\n",
    "    \"statement\",\n",
    "    \"success\"\n",
    "    ]\n",
    "    # Variables required for Game.\n",
    "\n",
    "    import random\n",
    "    given_word=random.choice(words)\n",
    "    correct_guess=[]\n",
    "    game_over=False\n",
    "    forced_quit=False\n",
    "    lives=6\n",
    "    guessed_word=\"_\"*len(given_word)\n",
    "    print(\"\"\"\n",
    "     _    _\n",
    "    | |  | |\n",
    "    | |__| |   __ __   _  ____    ____    ____  __     __ __   _  ____  \n",
    "    |  __  |  /  `  | | |/ _  \\  /  _  \\ `   _\\/  \\   /  `  | | |/ _  \\ \n",
    "    | |  | | |  (|  | |  /   \\ | | (_| | | | | | | | |  (|  | |  /   \\ |\n",
    "    |_|  |_|  \\___,_| |_|    |_| \\___  | |_| |_| |_|  \\___,_| |_|    |_| \n",
    "                                   __/ |\n",
    "                                  |____/  \n",
    "    \"\"\")\n",
    "    while(not game_over):\n",
    "        print(states[6-lives])\n",
    "        for i in guessed_word:\n",
    "            print(i, end=\" \")\n",
    "        print(\"\\n\\n\")\n",
    "        print(\"\\nGuess a letter:\\n\")\n",
    "        guessed_letter=input().lower()\n",
    "        \n",
    "#       Condition for quiting game in between\n",
    "        if guessed_letter==\"q:\":\n",
    "            forced_quit = True\n",
    "            return print(\"You Lose\")\n",
    "        \n",
    "#         Chekcing if the entered word is present in the \n",
    "        for i in range(len(given_word)):\n",
    "            if given_word[i] == guessed_letter:\n",
    "                guessed_word = guessed_word[:i]+guessed_letter+guessed_word[i+1:]\n",
    "                \n",
    "#         Reduce the live by 1 if the entered word is not in the Word\n",
    "        if guessed_letter not in given_word:\n",
    "            lives-=1\n",
    "            \n",
    "#         Close the game if all the lives are exhausted.\n",
    "        if lives == 0:\n",
    "            game_over = True\n",
    "            break\n",
    "        if guessed_word == given_word:\n",
    "            break\n",
    "            \n",
    "    if game_over is False:\n",
    "        return print(\"-\"*5+\"\\n\\nYou Win\\n\\n\"+5*\"-\")\n",
    "    else:\n",
    "        return print(\"\\n\\nYou lose\\n\\n\")"
   ]
  },
  {
   "cell_type": "code",
   "execution_count": 2,
   "metadata": {},
   "outputs": [
    {
     "name": "stdout",
     "output_type": "stream",
     "text": [
      "\n",
      "     _    _\n",
      "    | |  | |\n",
      "    | |__| |   __ __   _  __      ____ \n",
      "    |  __  |  /  `  | | |/ _  \\  /  _  \\\n",
      "    | |  | | |  (|  | |  /   \\ | | (_| |\n",
      "    |_|  |_|  \\___,_| |_|    |_| \\___  |\n",
      "                                   __/ |\n",
      "                                  |____/  \n",
      "    \n",
      "\n",
      "     +---+\n",
      "     |   |\n",
      "     0   |\n",
      "         |\n",
      "         |\n",
      "         |\n",
      "    ======\n",
      "     \n",
      "_ _ _ _ _ _ _ \n",
      "\n",
      "\n",
      "Guess a letter:\n"
     ]
    },
    {
     "name": "stdin",
     "output_type": "stream",
     "text": [
      " s\n"
     ]
    },
    {
     "name": "stdout",
     "output_type": "stream",
     "text": [
      "\n",
      "     +---+\n",
      "     |   |\n",
      "     0   |\n",
      "         |\n",
      "         |\n",
      "         |\n",
      "    ======\n",
      "     \n",
      "s _ _ _ _ s s \n",
      "\n",
      "\n",
      "Guess a letter:\n"
     ]
    },
    {
     "name": "stdin",
     "output_type": "stream",
     "text": [
      " a\n"
     ]
    },
    {
     "name": "stdout",
     "output_type": "stream",
     "text": [
      "\n",
      "     +---+\n",
      "     |   |\n",
      "     0   |\n",
      "    /    |\n",
      "         |\n",
      "         |\n",
      "    ======\n",
      "    \n",
      "s _ _ _ _ s s \n",
      "\n",
      "\n",
      "Guess a letter:\n"
     ]
    },
    {
     "name": "stdin",
     "output_type": "stream",
     "text": [
      " u\n"
     ]
    },
    {
     "name": "stdout",
     "output_type": "stream",
     "text": [
      "\n",
      "     +---+\n",
      "     |   |\n",
      "     0   |\n",
      "    /    |\n",
      "         |\n",
      "         |\n",
      "    ======\n",
      "    \n",
      "s u _ _ _ s s \n",
      "\n",
      "\n",
      "Guess a letter:\n"
     ]
    },
    {
     "name": "stdin",
     "output_type": "stream",
     "text": [
      " c\n"
     ]
    },
    {
     "name": "stdout",
     "output_type": "stream",
     "text": [
      "\n",
      "     +---+\n",
      "     |   |\n",
      "     0   |\n",
      "    /    |\n",
      "         |\n",
      "         |\n",
      "    ======\n",
      "    \n",
      "s u c c _ s s \n",
      "\n",
      "\n",
      "Guess a letter:\n"
     ]
    },
    {
     "name": "stdin",
     "output_type": "stream",
     "text": [
      " e\n"
     ]
    },
    {
     "name": "stdout",
     "output_type": "stream",
     "text": [
      "-----\n",
      "\n",
      "You Win\n",
      "\n",
      "-----\n"
     ]
    }
   ],
   "source": [
    "hangman()"
   ]
  },
  {
   "cell_type": "code",
   "execution_count": 11,
   "metadata": {},
   "outputs": [
    {
     "name": "stdout",
     "output_type": "stream",
     "text": [
      "\n",
      "     _    _\n",
      "    | |  | |\n",
      "    | |__| |   __ __   _  __      ____ \n",
      "    |  __  |  /  `  | | |/ _  \\  /  _  \\\n",
      "    | |  | | |  (|  | |  /   \\ | | (_| |\n",
      "    |_|  |_|  \\___,_| |_|    |_| \\___  |\n",
      "                                   __/ |\n",
      "                                  |____/  \n",
      "    \n",
      "\n",
      "     +---+\n",
      "     |   |\n",
      "     0   |\n",
      "         |\n",
      "         |\n",
      "         |\n",
      "    ======\n",
      "     \n",
      "_ _ _ _ _ _ _ \n",
      "\n",
      "\n",
      "Guess a letter:\n"
     ]
    },
    {
     "name": "stdin",
     "output_type": "stream",
     "text": [
      " s\n"
     ]
    },
    {
     "name": "stdout",
     "output_type": "stream",
     "text": [
      "\n",
      "     +---+\n",
      "     |   |\n",
      "     0   |\n",
      "         |\n",
      "         |\n",
      "         |\n",
      "    ======\n",
      "     \n",
      "s _ s _ _ s _ \n",
      "\n",
      "\n",
      "Guess a letter:\n"
     ]
    },
    {
     "name": "stdin",
     "output_type": "stream",
     "text": [
      " a\n"
     ]
    },
    {
     "name": "stdout",
     "output_type": "stream",
     "text": [
      "\n",
      "     +---+\n",
      "     |   |\n",
      "     0   |\n",
      "         |\n",
      "         |\n",
      "         |\n",
      "    ======\n",
      "     \n",
      "s a s _ _ s _ \n",
      "\n",
      "\n",
      "Guess a letter:\n"
     ]
    },
    {
     "name": "stdin",
     "output_type": "stream",
     "text": [
      " h\n"
     ]
    },
    {
     "name": "stdout",
     "output_type": "stream",
     "text": [
      "\n",
      "     +---+\n",
      "     |   |\n",
      "     0   |\n",
      "         |\n",
      "         |\n",
      "         |\n",
      "    ======\n",
      "     \n",
      "s a s h _ s h \n",
      "\n",
      "\n",
      "Guess a letter:\n"
     ]
    },
    {
     "name": "stdin",
     "output_type": "stream",
     "text": [
      " e\n"
     ]
    },
    {
     "name": "stdout",
     "output_type": "stream",
     "text": [
      "-----\n",
      "\n",
      "You Win\n",
      "\n",
      "-----\n"
     ]
    }
   ],
   "source": [
    "hangman()"
   ]
  }
 ],
 "metadata": {
  "kernelspec": {
   "display_name": "Python 3",
   "language": "python",
   "name": "python3"
  },
  "language_info": {
   "codemirror_mode": {
    "name": "ipython",
    "version": 3
   },
   "file_extension": ".py",
   "mimetype": "text/x-python",
   "name": "python",
   "nbconvert_exporter": "python",
   "pygments_lexer": "ipython3",
   "version": "3.8.5"
  }
 },
 "nbformat": 4,
 "nbformat_minor": 4
}
