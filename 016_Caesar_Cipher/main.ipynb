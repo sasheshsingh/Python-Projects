{
 "cells": [
  {
   "cell_type": "code",
   "execution_count": 1,
   "metadata": {},
   "outputs": [
    {
     "name": "stdout",
     "output_type": "stream",
     "text": [
      "Welcome to Caesar Cipher\n"
     ]
    }
   ],
   "source": [
    "print(\"Welcome to Caesar Cipher\")\n",
    "alphabet = ['a', 'b', 'c', 'd', 'e', 'f', 'g', 'h', 'i', 'j', 'k', 'l', 'm', 'n', 'o', 'p', 'q', 'r', 's', 't', 'u', 'v', 'w', 'x', 'y', 'z']"
   ]
  },
  {
   "cell_type": "code",
   "execution_count": 2,
   "metadata": {},
   "outputs": [],
   "source": [
    "def encrypt(message,shift_key):\n",
    "    encrypted_message = \"\"\n",
    "    for i in message:\n",
    "        pos = alphabet.index(i)\n",
    "        new_pos = (pos + shift_key)%26\n",
    "        encrypted_message += alphabet[new_pos]\n",
    "    return encrypted_message"
   ]
  },
  {
   "cell_type": "code",
   "execution_count": 12,
   "metadata": {},
   "outputs": [],
   "source": [
    "def decrypt(message, shift_key):\n",
    "    decrypted_message = \"\"\n",
    "    for i in message:\n",
    "        pos = alphabet.index(i)\n",
    "        new_pos = (pos - shift_key) % 26\n",
    "        decrypted_message += alphabet[new_pos]        \n",
    "    return decrypted_message"
   ]
  },
  {
   "cell_type": "code",
   "execution_count": 13,
   "metadata": {},
   "outputs": [
    {
     "name": "stdin",
     "output_type": "stream",
     "text": [
      "Enter your message python\n",
      "Enter the value of shift key for the message 55\n"
     ]
    },
    {
     "name": "stdout",
     "output_type": "stream",
     "text": [
      "Your encrypted message will besbwkrq\n",
      "\n",
      "Your Decrpted message is python\n"
     ]
    }
   ],
   "source": [
    "message = input(\"Enter your message\")\n",
    "shift_key = int(input(\"Enter the value of shift key for the message\"))\n",
    "encrypted_message = encrypt(message, shift_key)\n",
    "print(\"Your encrypted message will be\" + encrypted_message)\n",
    "\n",
    "final_msg = decrypt(encrypted_message, shift_key)\n",
    "print(\"\\nYour Decrpted message is \" + final_msg)"
   ]
  },
  {
   "cell_type": "code",
   "execution_count": null,
   "metadata": {},
   "outputs": [],
   "source": []
  }
 ],
 "metadata": {
  "kernelspec": {
   "display_name": "Python 3",
   "language": "python",
   "name": "python3"
  },
  "language_info": {
   "codemirror_mode": {
    "name": "ipython",
    "version": 3
   },
   "file_extension": ".py",
   "mimetype": "text/x-python",
   "name": "python",
   "nbconvert_exporter": "python",
   "pygments_lexer": "ipython3",
   "version": "3.8.5"
  }
 },
 "nbformat": 4,
 "nbformat_minor": 4
}
