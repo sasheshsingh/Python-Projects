{
 "cells": [
  {
   "cell_type": "code",
   "execution_count": 2,
   "metadata": {},
   "outputs": [],
   "source": [
    "def paint_calc(height, length, coverage):\n",
    "    print(f\"Total area required for paint is {height * length * coverage}\")"
   ]
  },
  {
   "cell_type": "code",
   "execution_count": 5,
   "metadata": {},
   "outputs": [
    {
     "name": "stdin",
     "output_type": "stream",
     "text": [
      "Height of the Wall in m^2\n",
      " 6\n",
      "Width of the Wall in m^2\n",
      " 5\n"
     ]
    },
    {
     "name": "stdout",
     "output_type": "stream",
     "text": [
      "Total area required for paint is 150\n"
     ]
    }
   ],
   "source": [
    "height=int(input(\"Height of the Wall in m^2\\n\"))\n",
    "length = int(input(\"Width of the Wall in m^2\\n\"))\n",
    "cover = 5\n",
    "paint_calc(height = height, length = length, coverage = cover)\n"
   ]
  },
  {
   "cell_type": "code",
   "execution_count": null,
   "metadata": {},
   "outputs": [],
   "source": []
  }
 ],
 "metadata": {
  "kernelspec": {
   "display_name": "Python 3",
   "language": "python",
   "name": "python3"
  },
  "language_info": {
   "codemirror_mode": {
    "name": "ipython",
    "version": 3
   },
   "file_extension": ".py",
   "mimetype": "text/x-python",
   "name": "python",
   "nbconvert_exporter": "python",
   "pygments_lexer": "ipython3",
   "version": "3.8.5"
  }
 },
 "nbformat": 4,
 "nbformat_minor": 4
}
