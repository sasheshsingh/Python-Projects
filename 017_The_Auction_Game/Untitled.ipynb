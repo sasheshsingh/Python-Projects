{
 "cells": [
  {
   "cell_type": "code",
   "execution_count": 15,
   "metadata": {},
   "outputs": [
    {
     "name": "stdout",
     "output_type": "stream",
     "text": [
      "Welcome to the Secret Auction Program\n"
     ]
    },
    {
     "name": "stdin",
     "output_type": "stream",
     "text": [
      "What is your name? Sashesh\n",
      "What is your bid? 89\n",
      "Are there any other bidders Type 'yes' or 'no' yes\n",
      "What is your name? Priyes\n",
      "What is your bid? 90\n",
      "Are there any other bidders Type 'yes' or 'no' yes\n",
      "What is your name? Harshita\n",
      "What is your bid? 80\n",
      "Are there any other bidders Type 'yes' or 'no' no\n"
     ]
    },
    {
     "name": "stdout",
     "output_type": "stream",
     "text": [
      "The Winner of the auction is Priyes with a bid of 90\n"
     ]
    }
   ],
   "source": [
    "bids = {\n",
    "    \"bid\":[],\n",
    "    \"name\":[]\n",
    "}\n",
    "\n",
    "print(\"Welcome to the Auction Program\")\n",
    "while(True):\n",
    "    name = input(\"What is your name?\")\n",
    "    bid = int(input(\"What is your bid?\"))\n",
    "    flag = input(\"Are there any other bidders Type 'yes' or 'no'\")\n",
    "    \n",
    "    bids[\"bid\"].append(bid)\n",
    "    bids[\"name\"].append(name)\n",
    "    if flag == \"yes\":\n",
    "        continue\n",
    "    else:\n",
    "        break\n",
    "winner = bids[\"bid\"].index(max(bids[\"bid\"]))\n",
    "print(f\"The Winner of the auction is {bids['name'][winner]} with a bid of {bids['bid'][winner]}\")"
   ]
  },
  {
   "cell_type": "code",
   "execution_count": 11,
   "metadata": {},
   "outputs": [
    {
     "data": {
      "text/plain": [
       "1"
      ]
     },
     "execution_count": 11,
     "metadata": {},
     "output_type": "execute_result"
    }
   ],
   "source": [
    "winner"
   ]
  },
  {
   "cell_type": "code",
   "execution_count": null,
   "metadata": {},
   "outputs": [],
   "source": []
  }
 ],
 "metadata": {
  "kernelspec": {
   "display_name": "Python 3",
   "language": "python",
   "name": "python3"
  },
  "language_info": {
   "codemirror_mode": {
    "name": "ipython",
    "version": 3
   },
   "file_extension": ".py",
   "mimetype": "text/x-python",
   "name": "python",
   "nbconvert_exporter": "python",
   "pygments_lexer": "ipython3",
   "version": "3.8.5"
  }
 },
 "nbformat": 4,
 "nbformat_minor": 4
}
